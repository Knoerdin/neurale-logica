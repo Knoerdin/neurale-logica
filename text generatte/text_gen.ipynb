{
 "cells": [
  {
   "cell_type": "code",
   "execution_count": 3,
   "metadata": {},
   "outputs": [],
   "source": [
    "import pandas as pd\n",
    "import numpy as np\n"
   ]
  },
  {
   "cell_type": "code",
   "execution_count": 4,
   "metadata": {},
   "outputs": [
    {
     "name": "stdout",
     "output_type": "stream",
     "text": [
      "              lemma part_of_speech                antonyms\n",
      "0        a la carte      adjective            table d'hote\n",
      "1      a posteriori      adjective                a priori\n",
      "2      a posteriori         adverb                a priori\n",
      "3          a priori      adjective            a posteriori\n",
      "4          a priori         adverb            a posteriori\n",
      "...             ...            ...                     ...\n",
      "11238      withdraw           verb  advance|engage|deposit\n",
      "11239     withstand           verb               surrender\n",
      "11240        worsen           verb           better|better\n",
      "11241       wrap up           verb           unwrap|unfurl\n",
      "11242        zip up           verb                   unzip\n",
      "\n",
      "[11243 rows x 3 columns]\n"
     ]
    }
   ],
   "source": [
    "antonmym = pd.read_csv('antonyms.csv')\n",
    "print(antonmym)\n",
    "antonmym_columns = antonmym.columns"
   ]
  },
  {
   "cell_type": "markdown",
   "metadata": {},
   "source": [
    "## Deleting all the verbs \n",
    "Here i will delete all the verbs such that we dont get \"The boy is bring\" "
   ]
  },
  {
   "cell_type": "code",
   "execution_count": 5,
   "metadata": {},
   "outputs": [
    {
     "name": "stdout",
     "output_type": "stream",
     "text": [
      "              lemma part_of_speech           antonyms\n",
      "0        a la carte      adjective       table d'hote\n",
      "1      a posteriori      adjective           a priori\n",
      "3          a priori      adjective       a posteriori\n",
      "5         abactinal      adjective            actinal\n",
      "6           abaxial      adjective            adaxial\n",
      "...             ...            ...                ...\n",
      "9881      westerner      adjective    eastern|eastern\n",
      "9886         wetter      adjective    dry|dry|dry|dry\n",
      "9900         wilder      adjective          tame|tame\n",
      "10511       flatter      adjective  contrasty|natural\n",
      "11184      unsolder      adjective               sold\n",
      "\n",
      "[4282 rows x 3 columns]\n",
      "['adjective']\n"
     ]
    }
   ],
   "source": [
    "# deleting all the verbs\n",
    "def delete_not_adj(antanym_data):\n",
    "    \"\"\"\n",
    "    Here we are deleting all the non adj from the data, by dropping all rows not adjective in the 'part_of_speech' column.\n",
    "    \"\"\"\n",
    "    for i in range(len(antanym_data)):\n",
    "        if 'verb' in antanym_data['part_of_speech'][i] or 'noun' in antanym_data['part_of_speech'][i]:\n",
    "            antanym_data = antanym_data.drop(i)\n",
    "    return antanym_data\n",
    "    \n",
    "antonmym= delete_not_adj(antonmym)\n",
    "print(antonmym)\n",
    "print (antonmym['part_of_speech'].unique())"
   ]
  },
  {
   "cell_type": "code",
   "execution_count": 6,
   "metadata": {},
   "outputs": [],
   "source": [
    "import spacy\n",
    "from nltk.corpus import wordnet as wn\n",
    "\n",
    "# Load spaCy language model\n",
    "nlp = spacy.load(\"en_core_web_sm\")\n",
    "\n",
    "def is_human_adjective(adjective):\n",
    "    \"\"\"\n",
    "    Determines if an adjective is likely to describe a human.\n",
    "    \"\"\"\n",
    "    # Check if the adjective has a WordNet synset\n",
    "    synsets = wn.synsets(adjective, pos=wn.ADJ)\n",
    "    if not synsets:\n",
    "        return False  # No relevant meaning found\n",
    "    \n",
    "    # Look for words related to humans in the synset definitions\n",
    "    human_related_keywords = [\"person\", \"people\", \"human\", \"emotion\", \"behavior\"]\n",
    "    for synset in synsets:\n",
    "        definition = synset.definition()\n",
    "        if any(keyword in definition for keyword in human_related_keywords):\n",
    "            return True\n",
    "    \n",
    "    return False\n",
    "\n",
    "# Create a mask to filter out rows that do not meet the criteria\n",
    "mask = antonmym['lemma'].apply(is_human_adjective)\n",
    "antonmym = antonmym[mask]\n",
    "\n"
   ]
  },
  {
   "cell_type": "code",
   "execution_count": 7,
   "metadata": {},
   "outputs": [
    {
     "name": "stdout",
     "output_type": "stream",
     "text": [
      "           lemma part_of_speech                                       antonyms\n",
      "15    aboriginal      adjective                                      nonnative\n",
      "103     adjusted      adjective                         unadjusted|maladjusted\n",
      "112     adscript      adjective                                    superscript\n",
      "136     affected      adjective                  unaffected|unaffected|unmoved\n",
      "155     agitated      adjective                          unagitated|unagitated\n",
      "...          ...            ...                                            ...\n",
      "6952      cooler      adjective                                 warm|warm|warm\n",
      "7301       drier      adjective                  wet|wet|wet|wet|sweet|phlegmy\n",
      "7314       dryer      adjective                  wet|wet|wet|wet|sweet|phlegmy\n",
      "8335     lighter      adjective  heavy|dark|heavy|heavy|heavy|dark|heavy|heavy\n",
      "9900      wilder      adjective                                      tame|tame\n",
      "\n",
      "[229 rows x 3 columns]\n"
     ]
    }
   ],
   "source": [
    "print(antonmym)"
   ]
  },
  {
   "cell_type": "code",
   "execution_count": 8,
   "metadata": {},
   "outputs": [],
   "source": [
    "#save the data\n",
    "antonmym.to_csv('human_adjectives.csv', index=False)"
   ]
  }
 ],
 "metadata": {
  "kernelspec": {
   "display_name": "Python 3",
   "language": "python",
   "name": "python3"
  },
  "language_info": {
   "codemirror_mode": {
    "name": "ipython",
    "version": 3
   },
   "file_extension": ".py",
   "mimetype": "text/x-python",
   "name": "python",
   "nbconvert_exporter": "python",
   "pygments_lexer": "ipython3",
   "version": "3.11.9"
  }
 },
 "nbformat": 4,
 "nbformat_minor": 2
}
