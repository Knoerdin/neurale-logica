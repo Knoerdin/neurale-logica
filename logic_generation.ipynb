{
 "cells": [
  {
   "cell_type": "markdown",
   "metadata": {},
   "source": [
    "Imports"
   ]
  },
  {
   "cell_type": "code",
   "execution_count": 23,
   "metadata": {},
   "outputs": [],
   "source": [
    "import pandas as pd\n",
    "import numpy as np"
   ]
  },
  {
   "cell_type": "markdown",
   "metadata": {},
   "source": [
    "Nodes"
   ]
  },
  {
   "cell_type": "code",
   "execution_count": 24,
   "metadata": {},
   "outputs": [],
   "source": [
    "class Node():\n",
    "    def evaluate(self, values):\n",
    "        pass\n",
    "    def to_scentence(self):\n",
    "        pass\n",
    "    def parse(text):\n",
    "        text = text.replace(' ', '')\n",
    "        if text[0] == '(' and text[-1] == ')':\n",
    "            text = text[1:-1]\n",
    "\n",
    "        if '(' not in text:\n",
    "            if '|' in text:\n",
    "                return Disjunction(Node.parse(text[:text.index('|')]), Node.parse(text[text.index('|') + 1:]))\n",
    "            elif '&' in text:\n",
    "                return Conjunction(Node.parse(text[:text.index('&')]), Node.parse(text[text.index('&') + 1:]))\n",
    "            elif '<->' in text:\n",
    "                return Biimplication(Node.parse(text[:text.index('<->')]), Node.parse(text[text.index('<->') + 3:]))\n",
    "            elif '->' in text:\n",
    "                return Implication(Node.parse(text[:text.index('->')]), Node.parse(text[text.index('->') + 2:]))\n",
    "            elif '!' in text:\n",
    "                return Negation(Node.parse(text[1:]))\n",
    "            return Variable(text, int(text[1:]))\n",
    "\n",
    "        depth = 0\n",
    "        for i in range(len(text)):\n",
    "            if text[i] == '(':\n",
    "                depth += 1\n",
    "            elif text[i] == ')':\n",
    "                depth -= 1\n",
    "            elif depth == 0 and text[i] == '|':\n",
    "                return Disjunction(Node.parse(text[:i]), Node.parse(text[i + 1:]))\n",
    "            elif depth == 0 and text[i] == '&':\n",
    "                return Conjunction(Node.parse(text[:i]), Node.parse(text[i + 1:]))\n",
    "            elif depth == 0 and text[i] == '-' and text[i + 1] == '>':\n",
    "                return Implication(Node.parse(text[:i]), Node.parse(text[i + 2:]))\n",
    "            elif depth == 0 and text[i] == '<' and text[i + 1] == '-' and text[i + 2] == '>':\n",
    "                return Biimplication(Node.parse(text[:i]), Node.parse(text[i + 3:]))\n",
    "            elif depth == 0 and text[i] == '!':\n",
    "                return Negation(Node.parse(text[i + 1:]))\n",
    "        \n",
    "        raise Exception('Something went wrong')\n",
    "    \n",
    "    def __str__(self):\n",
    "        pass\n",
    "\n",
    "class Variable(Node):\n",
    "    def __init__(self, name, index):\n",
    "        self.name = name\n",
    "        self.index = index\n",
    "\n",
    "    def evaluate(self, values):\n",
    "        return values[self.index]\n",
    "    \n",
    "    def to_scentence(self, root = True):\n",
    "        return f'{self.name}{'.' if root else ''}', 0\n",
    "    \n",
    "    def __str__(self):\n",
    "        return self.name\n",
    "    \n",
    "    def __eq__(self, other):\n",
    "        if isinstance(other, Variable):\n",
    "            return self.name == other.name\n",
    "        if isinstance(other, Negation):\n",
    "            return self.name == other.expr.name\n",
    "        return False\n",
    "    \n",
    "class Negation(Node):\n",
    "    def __init__(self, expr):\n",
    "        self.expr = expr\n",
    "\n",
    "    def evaluate(self, values):\n",
    "        return not self.expr.evaluate(values)\n",
    "    \n",
    "    def to_scentence(self, root = True):\n",
    "        text, depth = self.expr.to_scentence(root = False)\n",
    "        return f'!{text}{'.' if root else ''}', depth\n",
    "\n",
    "    def __str__(self):\n",
    "        return f\"!{self.expr}\"\n",
    "    \n",
    "    def __eq__(self, other):\n",
    "        if isinstance(other, Negation):\n",
    "            return self.expr == other.expr\n",
    "        if isinstance(other, Variable):\n",
    "            return self.expr.name == other.name\n",
    "        return False\n",
    "\n",
    "class Implication(Node):\n",
    "    def __init__(self, left, right):\n",
    "        self.left = left\n",
    "        self.right = right\n",
    "\n",
    "    def evaluate(self, values):\n",
    "        return not self.left.evaluate(values) or self.right.evaluate(values)\n",
    "    \n",
    "    def to_scentence(self, nested = False, root = True):\n",
    "        left_text, left_depth = self.left.to_scentence(nested=True, root=False) if isinstance(self.left, Implication) else self.left.to_scentence(root=False)\n",
    "        right_text, right_depth = self.right.to_scentence(root=False)\n",
    "\n",
    "        depth = max(left_depth, right_depth)\n",
    "\n",
    "        return f'{'if ' if not nested else ''}{left_text} then{',' * depth} {right_text}{'.' if root else ''}', depth + 1\n",
    "\n",
    "    def __str__(self):\n",
    "        return f\"({self.left} -> {self.right})\"\n",
    "    \n",
    "    def __eq__(self, other):\n",
    "        if isinstance(other, Implication):\n",
    "            return self.left == other.left and self.right == other.right\n",
    "        return False\n",
    "    \n",
    "class Disjunction(Node):\n",
    "    def __init__(self, left, right):\n",
    "        self.left = left\n",
    "        self.right = right\n",
    "\n",
    "    def evaluate(self, values):\n",
    "        return self.left.evaluate(values) or self.right.evaluate(values)\n",
    "    \n",
    "    def to_scentence(self, root = True):\n",
    "        left_text, left_depth = self.left.to_scentence(root=False)\n",
    "        right_text, right_depth = self.right.to_scentence(root=False)\n",
    "        depth = max(left_depth, right_depth)\n",
    "        return f'{left_text} or{',' * depth} {right_text}{'.' if root else ''}', depth + 1\n",
    "\n",
    "\n",
    "    def __str__(self):\n",
    "        return f\"({self.left} | {self.right})\"\n",
    "    \n",
    "    def __eq__(self, other):\n",
    "        if isinstance(other, Disjunction):\n",
    "            return self.left == other.left and self.right == other.right\n",
    "        return False\n",
    "    \n",
    "class Conjunction(Node):\n",
    "    def __init__(self, left, right):\n",
    "        self.left = left\n",
    "        self.right = right\n",
    "\n",
    "    def evaluate(self, values):\n",
    "        return self.left.evaluate(values) and self.right.evaluate(values)\n",
    "    \n",
    "    def to_scentence(self, root = True):\n",
    "        left_text, left_depth = self.left.to_scentence(root=False)\n",
    "        right_text, right_depth = self.right.to_scentence(root=False)\n",
    "        depth = max(left_depth, right_depth)\n",
    "        return f'{left_text} and{',' * depth} {right_text}{'.' if root else ''}', depth + 1\n",
    "\n",
    "    def __str__(self):\n",
    "        return f\"({self.left} & {self.right})\"\n",
    "    \n",
    "    def __eq__(self, other):\n",
    "        if isinstance(other, Conjunction):\n",
    "            return self.left == other.left and self.right == other.right\n",
    "        return False\n",
    "    \n",
    "class Biimplication(Node):\n",
    "    def __init__(self, left, right):\n",
    "        self.left = left\n",
    "        self.right = right\n",
    "\n",
    "    def evaluate(self, values):\n",
    "        return self.left.evaluate(values) == self.right.evaluate(values)\n",
    "\n",
    "    def to_scentence(self, root = True):\n",
    "        left_text, left_depth = self.left.to_scentence(root=False)\n",
    "        right_text, right_depth = self.right.to_scentence(nested = True, root=False) if isinstance(self.right, Implication) else self.right.to_scentence(root=False)\n",
    "        depth = max(left_depth, right_depth)\n",
    "        return f'{left_text} if and only if{',' * depth} {right_text}{'.' if root else ''}', depth + 1\n",
    "    \n",
    "    def __str__(self):\n",
    "        return f\"({self.left} <-> {self.right})\"\n",
    "    \n",
    "    def __eq__(self, other):\n",
    "        if isinstance(other, Biimplication):\n",
    "            return self.left == other.left and self.right == other.right\n",
    "        return False"
   ]
  },
  {
   "cell_type": "markdown",
   "metadata": {},
   "source": [
    "Generator"
   ]
  },
  {
   "cell_type": "code",
   "execution_count": 25,
   "metadata": {},
   "outputs": [
    {
     "name": "stdout",
     "output_type": "stream",
     "text": [
      "150580\n"
     ]
    }
   ],
   "source": [
    "def generate(depth, n):\n",
    "    for i in range(n):\n",
    "        yield Variable(f\"p{i}\", i)\n",
    "\n",
    "    if depth == 0:\n",
    "        for neg in generate(depth - 1, n):\n",
    "            yield Negation(neg)\n",
    "    elif depth > 0:\n",
    "        for left in generate(depth - 1, n):\n",
    "            for right in generate(depth - 1, n):\n",
    "                if left != right:\n",
    "                    yield Implication(left, right)\n",
    "                    yield Disjunction(left, right)\n",
    "                    yield Conjunction(left, right)\n",
    "                    yield Biimplication(left, right)\n",
    "\n",
    "print(len(list(generate(2, 4))))"
   ]
  },
  {
   "cell_type": "markdown",
   "metadata": {},
   "source": [
    "Find Unique Truthtable Numbers"
   ]
  },
  {
   "cell_type": "code",
   "execution_count": 26,
   "metadata": {},
   "outputs": [],
   "source": [
    "def generate_number(expression, n):\n",
    "    output = 0\n",
    "    for i in range(2 ** n):\n",
    "        values = [bool(i & (1 << j)) for j in range(n)]\n",
    "        if expression.evaluate(values):\n",
    "            output += 2 ** i\n",
    "    return output"
   ]
  },
  {
   "cell_type": "markdown",
   "metadata": {},
   "source": [
    "Generate Dataset"
   ]
  },
  {
   "cell_type": "code",
   "execution_count": 27,
   "metadata": {},
   "outputs": [],
   "source": [
    "def generate_dataset(n, depth):\n",
    "    data = []\n",
    "    for expression in generate(depth, n):\n",
    "        number = generate_number(expression, n)\n",
    "        data.append([str(expression)] + [number])\n",
    "    output = pd.DataFrame(data, columns=[\"expression\", \"key\"])\n",
    "\n",
    "    for key in output['key'].unique():\n",
    "        output.loc[output['key'] == key, 'ratio'] = 1 / output.loc[output['key'] == key].shape[0]\n",
    "    return output"
   ]
  },
  {
   "cell_type": "code",
   "execution_count": 28,
   "metadata": {},
   "outputs": [
    {
     "data": {
      "text/html": [
       "<div>\n",
       "<style scoped>\n",
       "    .dataframe tbody tr th:only-of-type {\n",
       "        vertical-align: middle;\n",
       "    }\n",
       "\n",
       "    .dataframe tbody tr th {\n",
       "        vertical-align: top;\n",
       "    }\n",
       "\n",
       "    .dataframe thead th {\n",
       "        text-align: right;\n",
       "    }\n",
       "</style>\n",
       "<table border=\"1\" class=\"dataframe\">\n",
       "  <thead>\n",
       "    <tr style=\"text-align: right;\">\n",
       "      <th></th>\n",
       "      <th>expression</th>\n",
       "      <th>key</th>\n",
       "      <th>ratio</th>\n",
       "    </tr>\n",
       "  </thead>\n",
       "  <tbody>\n",
       "    <tr>\n",
       "      <th>0</th>\n",
       "      <td>p0</td>\n",
       "      <td>43690</td>\n",
       "      <td>0.002309</td>\n",
       "    </tr>\n",
       "    <tr>\n",
       "      <th>1</th>\n",
       "      <td>p1</td>\n",
       "      <td>52428</td>\n",
       "      <td>0.002309</td>\n",
       "    </tr>\n",
       "    <tr>\n",
       "      <th>2</th>\n",
       "      <td>p2</td>\n",
       "      <td>61680</td>\n",
       "      <td>0.002309</td>\n",
       "    </tr>\n",
       "    <tr>\n",
       "      <th>3</th>\n",
       "      <td>p3</td>\n",
       "      <td>65280</td>\n",
       "      <td>0.002309</td>\n",
       "    </tr>\n",
       "    <tr>\n",
       "      <th>4</th>\n",
       "      <td>(p0 -&gt; p1)</td>\n",
       "      <td>56797</td>\n",
       "      <td>0.001647</td>\n",
       "    </tr>\n",
       "    <tr>\n",
       "      <th>...</th>\n",
       "      <td>...</td>\n",
       "      <td>...</td>\n",
       "      <td>...</td>\n",
       "    </tr>\n",
       "    <tr>\n",
       "      <th>150575</th>\n",
       "      <td>((!p3 &lt;-&gt; !p2) &lt;-&gt; (!p3 | !p2))</td>\n",
       "      <td>15</td>\n",
       "      <td>0.003425</td>\n",
       "    </tr>\n",
       "    <tr>\n",
       "      <th>150576</th>\n",
       "      <td>((!p3 &lt;-&gt; !p2) -&gt; (!p3 &amp; !p2))</td>\n",
       "      <td>4095</td>\n",
       "      <td>0.001718</td>\n",
       "    </tr>\n",
       "    <tr>\n",
       "      <th>150577</th>\n",
       "      <td>((!p3 &lt;-&gt; !p2) | (!p3 &amp; !p2))</td>\n",
       "      <td>61455</td>\n",
       "      <td>0.002488</td>\n",
       "    </tr>\n",
       "    <tr>\n",
       "      <th>150578</th>\n",
       "      <td>((!p3 &lt;-&gt; !p2) &amp; (!p3 &amp; !p2))</td>\n",
       "      <td>15</td>\n",
       "      <td>0.003425</td>\n",
       "    </tr>\n",
       "    <tr>\n",
       "      <th>150579</th>\n",
       "      <td>((!p3 &lt;-&gt; !p2) &lt;-&gt; (!p3 &amp; !p2))</td>\n",
       "      <td>4095</td>\n",
       "      <td>0.001718</td>\n",
       "    </tr>\n",
       "  </tbody>\n",
       "</table>\n",
       "<p>150580 rows × 3 columns</p>\n",
       "</div>"
      ],
      "text/plain": [
       "                             expression    key     ratio\n",
       "0                                    p0  43690  0.002309\n",
       "1                                    p1  52428  0.002309\n",
       "2                                    p2  61680  0.002309\n",
       "3                                    p3  65280  0.002309\n",
       "4                            (p0 -> p1)  56797  0.001647\n",
       "...                                 ...    ...       ...\n",
       "150575  ((!p3 <-> !p2) <-> (!p3 | !p2))     15  0.003425\n",
       "150576   ((!p3 <-> !p2) -> (!p3 & !p2))   4095  0.001718\n",
       "150577    ((!p3 <-> !p2) | (!p3 & !p2))  61455  0.002488\n",
       "150578    ((!p3 <-> !p2) & (!p3 & !p2))     15  0.003425\n",
       "150579  ((!p3 <-> !p2) <-> (!p3 & !p2))   4095  0.001718\n",
       "\n",
       "[150580 rows x 3 columns]"
      ]
     },
     "execution_count": 28,
     "metadata": {},
     "output_type": "execute_result"
    }
   ],
   "source": [
    "# generate_dataset(4, 2).to_csv(\"dataset.csv\", index=False)\n",
    "test_data = pd.read_csv(\"dataset.csv\")\n",
    "test_data"
   ]
  },
  {
   "cell_type": "markdown",
   "metadata": {},
   "source": [
    "Generate premise from conclusion"
   ]
  },
  {
   "cell_type": "code",
   "execution_count": 29,
   "metadata": {},
   "outputs": [],
   "source": [
    "def generate_premise(value, indexes):\n",
    "    for i in indexes:\n",
    "        if i < value: continue\n",
    "        for j in indexes:\n",
    "            if j < value: continue\n",
    "            if i != value and j != value and i > j and i & j == value:\n",
    "                yield i, j, value\n",
    "    "
   ]
  },
  {
   "cell_type": "code",
   "execution_count": 30,
   "metadata": {},
   "outputs": [
    {
     "name": "stdout",
     "output_type": "stream",
     "text": [
      "((p3 -> !p2) & (!p1 & p3)) ('if p3 then !p2 and, !p1 and p3.', 2)\n",
      "((p3 -> !p2) & (!p1 & p3)) ('if p3 then !p2 and, !p1 and p3.', 2)\n"
     ]
    }
   ],
   "source": [
    "value = np.random.choice(list(generate(2,4)))\n",
    "\n",
    "print(value, value.to_scentence())\n",
    "parst = Node.parse(str(value))\n",
    "print(parst, parst.to_scentence())"
   ]
  },
  {
   "cell_type": "code",
   "execution_count": 31,
   "metadata": {},
   "outputs": [
    {
     "name": "stdout",
     "output_type": "stream",
     "text": [
      "{if p0 or !p1 then, p3 and !p2. p1 and p2 if and only if, !p2 and !p3.} p2 if and only if, !p2 and !p3.\n"
     ]
    }
   ],
   "source": [
    "picked = test_data.sample(1)\n",
    "lists = list(generate_premise(picked[\"key\"].values[0], test_data[\"key\"].unique()))\n",
    "while len(lists) == 0:\n",
    "    picked = test_data.sample(1)\n",
    "    lists = list(generate_premise(picked[\"key\"].values[0], test_data[\"key\"].unique()))\n",
    "a,b,c = lists[np.random.randint(0, len(lists))]\n",
    "prem_0 = Node.parse(str(test_data[test_data[\"key\"] == a][\"expression\"].values[0])).to_scentence()\n",
    "prem_1 = Node.parse(str(test_data[test_data[\"key\"] == b][\"expression\"].values[0])).to_scentence()\n",
    "conc = Node.parse(str(test_data[test_data[\"key\"] == c][\"expression\"].values[0])).to_scentence()\n",
    "\n",
    "print(f'\\x7b{prem_0[0]} {prem_1[0]}\\x7d', f'{conc[0]}')"
   ]
  },
  {
   "cell_type": "markdown",
   "metadata": {},
   "source": [
    "Tokenizer"
   ]
  },
  {
   "cell_type": "code",
   "execution_count": 34,
   "metadata": {},
   "outputs": [],
   "source": [
    "class Tokenizer():\n",
    "    symbols = ['{', '}', '.', ',', '!']\n",
    "    words = ['and', 'or', 'if', 'then', 'only']\n",
    "    def Split(input):\n",
    "        if input[0] in Tokenizer.symbols:\n",
    "            return [Tokenizer.symbols.index(input[0])] + Tokenizer.Split(input[1:])\n",
    "        elif input[-1] in Tokenizer.symbols:\n",
    "            return Tokenizer.Split(input[:-1]) + [Tokenizer.symbols.index(input[-1])]\n",
    "        elif input in Tokenizer.words:\n",
    "            return [Tokenizer.words.index(input) + len(Tokenizer.symbols)]\n",
    "        elif input[0] == 'p' and input[1:].isnumeric():\n",
    "            return [int(input[1:]) + len(Tokenizer.words) + len(Tokenizer.symbols)]\n",
    "        \n",
    "        raise Exception(f'Invalid input: {input}')\n",
    "    \n",
    "    def Tokenize(input):\n",
    "        output = []\n",
    "        input_words = input.split(' ')\n",
    "        for word in input_words:\n",
    "            if word in Tokenizer.symbols:\n",
    "                output.append(Tokenizer.symbols.index(word))\n",
    "            elif word in Tokenizer.words:\n",
    "                output.append(Tokenizer.words.index(word) + len(Tokenizer.symbols))\n",
    "            elif word[0] == 'p' and word[1:].isnumeric():\n",
    "                output.append(int(word[1:]) + len(Tokenizer.symbols) + len(Tokenizer.words))\n",
    "            else:\n",
    "                output += Tokenizer.Split(word)\n",
    "        return output"
   ]
  },
  {
   "cell_type": "code",
   "execution_count": 37,
   "metadata": {},
   "outputs": [
    {
     "name": "stdout",
     "output_type": "stream",
     "text": [
      "[0, 7, 10, 6, 4, 11, 8, 3, 13, 5, 4, 12, 2, 11, 5, 12, 7, 5, 9, 7, 3, 4, 12, 5, 4, 13, 2, 1]\n"
     ]
    }
   ],
   "source": [
    "tokens = Tokenizer.Tokenize(f'\\x7b{prem_0[0]} {prem_1[0]}\\x7d')\n",
    "print(tokens)"
   ]
  }
 ],
 "metadata": {
  "kernelspec": {
   "display_name": "Python 3",
   "language": "python",
   "name": "python3"
  },
  "language_info": {
   "codemirror_mode": {
    "name": "ipython",
    "version": 3
   },
   "file_extension": ".py",
   "mimetype": "text/x-python",
   "name": "python",
   "nbconvert_exporter": "python",
   "pygments_lexer": "ipython3",
   "version": "3.12.3"
  }
 },
 "nbformat": 4,
 "nbformat_minor": 2
}
